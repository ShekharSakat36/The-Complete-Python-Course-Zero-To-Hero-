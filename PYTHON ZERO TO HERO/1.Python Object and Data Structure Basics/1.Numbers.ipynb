{
 "cells": [
  {
   "cell_type": "markdown",
   "id": "af03e956-a134-4016-9847-352243196d4a",
   "metadata": {},
   "source": [
    "NUMBERS IN PYTHON"
   ]
  },
  {
   "cell_type": "code",
   "execution_count": 1,
   "id": "cc102182-56d2-48d2-8b56-67b8616a8a44",
   "metadata": {},
   "outputs": [
    {
     "data": {
      "text/plain": [
       "3"
      ]
     },
     "execution_count": 1,
     "metadata": {},
     "output_type": "execute_result"
    }
   ],
   "source": [
    "2 + 1  # Addition in Python"
   ]
  },
  {
   "cell_type": "code",
   "execution_count": 2,
   "id": "99612ffe-09b5-4183-acbb-ce36b6a495cc",
   "metadata": {},
   "outputs": [
    {
     "data": {
      "text/plain": [
       "1"
      ]
     },
     "execution_count": 2,
     "metadata": {},
     "output_type": "execute_result"
    }
   ],
   "source": [
    "2 - 1 # Subtraction"
   ]
  },
  {
   "cell_type": "code",
   "execution_count": 3,
   "id": "848cf873-e5d0-47a4-a439-21f1b5b33788",
   "metadata": {},
   "outputs": [
    {
     "data": {
      "text/plain": [
       "2.0"
      ]
     },
     "execution_count": 3,
     "metadata": {},
     "output_type": "execute_result"
    }
   ],
   "source": [
    " 2 / 1 # Division"
   ]
  },
  {
   "cell_type": "code",
   "execution_count": 4,
   "id": "68c8120b-8f9f-4d9b-be5c-4fc0f46a7c43",
   "metadata": {},
   "outputs": [
    {
     "data": {
      "text/plain": [
       "4"
      ]
     },
     "execution_count": 4,
     "metadata": {},
     "output_type": "execute_result"
    }
   ],
   "source": [
    "2 * 2 # Multiplication"
   ]
  },
  {
   "cell_type": "markdown",
   "id": "3d597c02-790c-46c2-bf22-7004d3b2630b",
   "metadata": {},
   "source": [
    "Modulo or Modulus Operator"
   ]
  },
  {
   "cell_type": "code",
   "execution_count": 6,
   "id": "c68bf84f-93ed-4acf-b54b-5cc3ee1e4d76",
   "metadata": {},
   "outputs": [
    {
     "data": {
      "text/plain": [
       "0"
      ]
     },
     "execution_count": 6,
     "metadata": {},
     "output_type": "execute_result"
    }
   ],
   "source": [
    "4 % 2"
   ]
  },
  {
   "cell_type": "code",
   "execution_count": 7,
   "id": "581ebbc9-97e9-4059-83c3-ffe1dde9c3e8",
   "metadata": {},
   "outputs": [
    {
     "data": {
      "text/plain": [
       "1"
      ]
     },
     "execution_count": 7,
     "metadata": {},
     "output_type": "execute_result"
    }
   ],
   "source": [
    "3 % 2 #Modulor or Mod Operator Just returns the remainder after doing divison"
   ]
  },
  {
   "cell_type": "code",
   "execution_count": 8,
   "id": "9e1ee150-a681-4367-acaf-141defbbf24e",
   "metadata": {},
   "outputs": [
    {
     "data": {
      "text/plain": [
       "1.75"
      ]
     },
     "execution_count": 8,
     "metadata": {},
     "output_type": "execute_result"
    }
   ],
   "source": [
    "7 / 4"
   ]
  },
  {
   "cell_type": "code",
   "execution_count": 9,
   "id": "587c7c18-8408-4a69-bb06-c8f3393a072a",
   "metadata": {},
   "outputs": [
    {
     "data": {
      "text/plain": [
       "3"
      ]
     },
     "execution_count": 9,
     "metadata": {},
     "output_type": "execute_result"
    }
   ],
   "source": [
    "7 % 4 # Modular divison"
   ]
  },
  {
   "cell_type": "code",
   "execution_count": 10,
   "id": "d7508190-5bbe-4d87-9aed-fb0f64167c83",
   "metadata": {},
   "outputs": [
    {
     "data": {
      "text/plain": [
       "0"
      ]
     },
     "execution_count": 10,
     "metadata": {},
     "output_type": "execute_result"
    }
   ],
   "source": [
    "50 % 5"
   ]
  },
  {
   "cell_type": "code",
   "execution_count": 11,
   "id": "86bc3c9e-f205-40db-abd1-148b1b1e42b9",
   "metadata": {},
   "outputs": [
    {
     "data": {
      "text/plain": [
       "0"
      ]
     },
     "execution_count": 11,
     "metadata": {},
     "output_type": "execute_result"
    }
   ],
   "source": [
    "#You can also check whether the number is even or odd\n",
    "20 % 2"
   ]
  },
  {
   "cell_type": "code",
   "execution_count": 12,
   "id": "c0e0e2f3-9822-43ff-a3d2-0712f4d28b86",
   "metadata": {},
   "outputs": [
    {
     "data": {
      "text/plain": [
       "1"
      ]
     },
     "execution_count": 12,
     "metadata": {},
     "output_type": "execute_result"
    }
   ],
   "source": [
    "23 % 2"
   ]
  },
  {
   "cell_type": "markdown",
   "id": "4b5dad6f-fa69-4070-b589-d18c5ac1efa2",
   "metadata": {},
   "source": [
    "POWER OR EXPONENT "
   ]
  },
  {
   "cell_type": "code",
   "execution_count": 13,
   "id": "c88d7a69-83eb-4540-9f3f-22b78619edda",
   "metadata": {},
   "outputs": [
    {
     "data": {
      "text/plain": [
       "27"
      ]
     },
     "execution_count": 13,
     "metadata": {},
     "output_type": "execute_result"
    }
   ],
   "source": [
    "3 ** 3"
   ]
  },
  {
   "cell_type": "code",
   "execution_count": 14,
   "id": "3a2769a9-3047-4eb5-af47-f034ae330e56",
   "metadata": {},
   "outputs": [
    {
     "data": {
      "text/plain": [
       "1000000000000000000000000000000000000000000000000000000000000000000000000000000000000000000000000000000000000000000000000000000000000000000000000000000000000000000000000000000000000000000000000000000000000000000000000000000000000000000000000000000000000000000000000000000000000000000000000000000000000000000000000000000000000000000000000000000000000000000000000000000000000000000000000000000000000000000000000000000000000000000000000000000000000000000000000000000000000000000000000000000000000000000000000000000000000000000000000000000000000000000000000000000000000000000000000000000000000000000000000000000"
      ]
     },
     "execution_count": 14,
     "metadata": {},
     "output_type": "execute_result"
    }
   ],
   "source": [
    "100 ** 303"
   ]
  },
  {
   "cell_type": "code",
   "execution_count": 15,
   "id": "7f29e719-1a42-4904-9c0f-f300a291f4f3",
   "metadata": {},
   "outputs": [
    {
     "data": {
      "text/plain": [
       "1000000000000000000000000000000000000000000000000000000000000000000000000000000000000000000000000000000000000000000000000000000000000000000000000000000000000000000000000000000000000000000000000000000000000000000000000000000000000000000000000000000000000000000000000000000000000000000000000000000000000000000000000000000000000000000000000000000000000000000000000000000000000000000000000000000000000000000000000000000000000000000000000000000000000000000000000000000000000000000000000000000000000000000000000000000000000000000000000000000000000000000000000000000000000000000000000000000000000000000000000000000000000000000000000000000000000000000000000000000000000000000000000000000000000000000000000000000000000000000000000000000000000000000000000000000000000000000000000000000000000000000000000000000000000000000000000000000000000000000000000000000000000000000000000000000000000000000000000000000000000000000000000000000000000000000000000000000000000000000000000000000000000000000000000000000000000000000000000000000000000000000000000000000000000000000000000000000000000000000000000000000000000000000000000000000000000000000000000000000000000000000000000000000000000000000000000000000000000000000000000000000000000000000000000000000000000000000000000000000000000000000000000000000000000000000000000000000000000000000000000000000000000000000000000000000000000000000000000000000000000000000000000000000000000000000000000000000000000000000000000000000000000000000000000000000000000000000000000000000000000000000000000000000000000000000000000000000000000000000000000000000000000000000000000000000000000000000000000000000000000000000000000000000000000000000000000000000000000000000000000000000000000000000000000000000000000000000000000000000000000000000000000000000000000000000000000000000000000000000000000000000000000000000000000000000000000000000000000000000000000000000000000000000000000000000000000000000000000000000000000000000000000000000000000000000000000000000000000000000000000000000000000000000000000000000000000000000000000000000000000000000000000000000000000000000000000000000000000000000000000000000000000000000000"
      ]
     },
     "execution_count": 15,
     "metadata": {},
     "output_type": "execute_result"
    }
   ],
   "source": [
    "10000000**303"
   ]
  },
  {
   "cell_type": "markdown",
   "id": "f3874521-95ae-4186-bd8f-130aaa18d2b5",
   "metadata": {},
   "source": [
    "ORDER OF OPERATIONS "
   ]
  },
  {
   "cell_type": "code",
   "execution_count": 1,
   "id": "14a1a427-626d-4940-b01d-fd54f62765e7",
   "metadata": {},
   "outputs": [
    {
     "data": {
      "text/plain": [
       "105"
      ]
     },
     "execution_count": 1,
     "metadata": {},
     "output_type": "execute_result"
    }
   ],
   "source": [
    "2 + 10 * 10  + 3\n"
   ]
  },
  {
   "cell_type": "code",
   "execution_count": 2,
   "id": "c4a344d3-87f2-4084-be1f-54f750fd99ca",
   "metadata": {},
   "outputs": [
    {
     "data": {
      "text/plain": [
       "156"
      ]
     },
     "execution_count": 2,
     "metadata": {},
     "output_type": "execute_result"
    }
   ],
   "source": [
    "(10 + 2) * (10+3)"
   ]
  },
  {
   "cell_type": "code",
   "execution_count": 3,
   "id": "9fd847da-c621-4a21-b63b-7638f92bba9f",
   "metadata": {},
   "outputs": [
    {
     "data": {
      "text/plain": [
       "5.551115123125783e-17"
      ]
     },
     "execution_count": 3,
     "metadata": {},
     "output_type": "execute_result"
    }
   ],
   "source": [
    "0.1 + 0.2 - 0.3"
   ]
  },
  {
   "cell_type": "code",
   "execution_count": 4,
   "id": "2a54d4cb-21e3-4d4d-802a-982dde94dae1",
   "metadata": {},
   "outputs": [
    {
     "name": "stdout",
     "output_type": "stream",
     "text": [
      "5.551115123125783e-17\n"
     ]
    }
   ],
   "source": [
    "result = 0.1 + 0.2 - 0.3\n",
    "print(result)  # Outputs something like 5.551115123125783e-17\n"
   ]
  },
  {
   "cell_type": "markdown",
   "id": "d1eacd77-d586-43bb-beec-4b7f435b343b",
   "metadata": {},
   "source": [
    "Other surprises follow from this one. For example, if you try to round the value 2.675 to two decimal places, you get this\n",
    "\n",
    "round(2.675, 2)\n",
    "2.67\n",
    "The documentation for the built-in round() function says that it rounds to the nearest value, rounding ties away from zero. Since the decimal fraction 2.675 is exactly halfway between 2.67 and 2.68, you might expect the result here to be (a binary approximation to) 2.68. It’s not, because when the decimal string 2.675 is converted to a binary floating-point number, it’s again replaced with a binary approximation, whose exact value is\n",
    "\n",
    "2.67499999999999982236431605997495353221893310546875\n",
    "Since this approximation is slightly closer to 2.67 than to 2.68, it’s rounded down.\n",
    "\n",
    "If you’re in a situation where you care which way your decimal halfway-cases are rounded, you should consider using the decimal module. Incidentally, the decimal module also provides a nice way to “see” the exact value that’s stored in any particular Python float\n",
    "\n",
    "from decimal import Decimal\n",
    " Decimal(2.675)\n",
    "Decimal('2.67499999999999982236431605997495353221893310546875')"
   ]
  },
  {
   "cell_type": "code",
   "execution_count": 1,
   "id": "1096a87a-9b5b-47a4-9e2b-4c2a30c15b85",
   "metadata": {},
   "outputs": [
    {
     "data": {
      "text/plain": [
       "2.67"
      ]
     },
     "execution_count": 1,
     "metadata": {},
     "output_type": "execute_result"
    }
   ],
   "source": [
    "round(2.675, 2)\n",
    "2.67"
   ]
  },
  {
   "cell_type": "code",
   "execution_count": 3,
   "id": "049e7217-125b-4417-9c04-43d85233271c",
   "metadata": {},
   "outputs": [],
   "source": [
    " from decimal import Decimal"
   ]
  },
  {
   "cell_type": "code",
   "execution_count": 4,
   "id": "5103f977-46d5-47fb-99cc-6777bae57c72",
   "metadata": {},
   "outputs": [
    {
     "data": {
      "text/plain": [
       "Decimal('2.67499999999999982236431605997495353221893310546875')"
      ]
     },
     "execution_count": 4,
     "metadata": {},
     "output_type": "execute_result"
    }
   ],
   "source": [
    "Decimal(2.675)"
   ]
  },
  {
   "cell_type": "code",
   "execution_count": 6,
   "id": "44af3acf-62dd-4e96-89f3-5e419cf3183d",
   "metadata": {},
   "outputs": [
    {
     "data": {
      "text/plain": [
       "Decimal('0.1000000000000000055511151231257827021181583404541015625')"
      ]
     },
     "execution_count": 6,
     "metadata": {},
     "output_type": "execute_result"
    }
   ],
   "source": [
    "Decimal(0.1)"
   ]
  },
  {
   "cell_type": "code",
   "execution_count": 10,
   "id": "cdc15fb0-5602-4e26-86df-b0f4065f20fc",
   "metadata": {},
   "outputs": [],
   "source": [
    "a= round(0.1,1)\n",
    "b =round(0.2,1)"
   ]
  },
  {
   "cell_type": "code",
   "execution_count": 11,
   "id": "c99a0413-1c52-40ca-a3e4-242e60c7a191",
   "metadata": {},
   "outputs": [
    {
     "data": {
      "text/plain": [
       "0.1"
      ]
     },
     "execution_count": 11,
     "metadata": {},
     "output_type": "execute_result"
    }
   ],
   "source": [
    "a"
   ]
  },
  {
   "cell_type": "code",
   "execution_count": 12,
   "id": "8d1faf3b-0f0f-422e-aeac-c490c5af7692",
   "metadata": {},
   "outputs": [
    {
     "data": {
      "text/plain": [
       "0.2"
      ]
     },
     "execution_count": 12,
     "metadata": {},
     "output_type": "execute_result"
    }
   ],
   "source": [
    "b"
   ]
  },
  {
   "cell_type": "code",
   "execution_count": 13,
   "id": "f8c9a4b9-c5df-4573-a643-8369ce4fdfe8",
   "metadata": {},
   "outputs": [
    {
     "data": {
      "text/plain": [
       "0.30000000000000004"
      ]
     },
     "execution_count": 13,
     "metadata": {},
     "output_type": "execute_result"
    }
   ],
   "source": [
    "a + b"
   ]
  },
  {
   "cell_type": "code",
   "execution_count": null,
   "id": "0da7b36d-31ef-417f-affb-19e107e99f8f",
   "metadata": {},
   "outputs": [],
   "source": []
  }
 ],
 "metadata": {
  "kernelspec": {
   "display_name": "Python 3 (ipykernel)",
   "language": "python",
   "name": "python3"
  },
  "language_info": {
   "codemirror_mode": {
    "name": "ipython",
    "version": 3
   },
   "file_extension": ".py",
   "mimetype": "text/x-python",
   "name": "python",
   "nbconvert_exporter": "python",
   "pygments_lexer": "ipython3",
   "version": "3.12.7"
  }
 },
 "nbformat": 4,
 "nbformat_minor": 5
}
