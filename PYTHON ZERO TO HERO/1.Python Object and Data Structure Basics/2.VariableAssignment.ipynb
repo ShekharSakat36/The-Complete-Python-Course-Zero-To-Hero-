{
 "cells": [
  {
   "cell_type": "markdown",
   "id": "1f3aa831-9b4d-4abb-9df7-6d0bb2095784",
   "metadata": {},
   "source": [
    "Variable Assignment"
   ]
  },
  {
   "cell_type": "code",
   "execution_count": 2,
   "id": "9834dc32-bc77-4dfd-83fc-c4a705b1eaa6",
   "metadata": {},
   "outputs": [],
   "source": [
    "a = 5 # We Have assigned the variable value 5 Here a is the variable name and value of Variable is 5 "
   ]
  },
  {
   "cell_type": "code",
   "execution_count": 3,
   "id": "b007cc4e-1a97-40c1-bfc2-c70d39dbead2",
   "metadata": {},
   "outputs": [
    {
     "data": {
      "text/plain": [
       "5"
      ]
     },
     "execution_count": 3,
     "metadata": {},
     "output_type": "execute_result"
    }
   ],
   "source": [
    "a # We can again ask the value of a whether it is stored or not in a "
   ]
  },
  {
   "cell_type": "code",
   "execution_count": 4,
   "id": "1e504525-c67a-4b21-a255-7273a5deab47",
   "metadata": {},
   "outputs": [],
   "source": [
    "a = 10 #We can reassign different values to same variables at many times\n",
    "#Despite we want But Variable can hold only one value at a time and its \n",
    "#Now previously a was holding the value 5 now once we reassign a new value 10 to a  the old value is deleted that is new value gets overwritten\n",
    "#and takes place of the memory location "
   ]
  },
  {
   "cell_type": "code",
   "execution_count": 5,
   "id": "31935b6f-d4fc-41a5-9446-4131f7b4e4e8",
   "metadata": {},
   "outputs": [
    {
     "data": {
      "text/plain": [
       "10"
      ]
     },
     "execution_count": 5,
     "metadata": {},
     "output_type": "execute_result"
    }
   ],
   "source": [
    "#Now if you ask for the value of you will get the new value of a 10 not 5 \n",
    "#Because a variable can hold only one value at a time \n",
    "a"
   ]
  },
  {
   "cell_type": "code",
   "execution_count": 6,
   "id": "799d7239-4b73-4417-bcd9-c3d6ed37d3b1",
   "metadata": {},
   "outputs": [
    {
     "data": {
      "text/plain": [
       "20"
      ]
     },
     "execution_count": 6,
     "metadata": {},
     "output_type": "execute_result"
    }
   ],
   "source": [
    "#We can also perform arithmetic Operation on \n",
    "\n",
    "a + a # WE are doubling the value of a which will give 20"
   ]
  },
  {
   "cell_type": "code",
   "execution_count": 8,
   "id": "2feac15b-ceb3-46be-abc6-d4ce2faea1c9",
   "metadata": {},
   "outputs": [
    {
     "data": {
      "text/plain": [
       "10"
      ]
     },
     "execution_count": 8,
     "metadata": {},
     "output_type": "execute_result"
    }
   ],
   "source": [
    "#Now if you again ask the value of a it is 10 \n",
    "a\n",
    "#It is because we have not reassigned the arithmetic operation of doubling the value of a to a"
   ]
  },
  {
   "cell_type": "code",
   "execution_count": 9,
   "id": "38a393f5-4ac5-4795-bc2d-d99cad6177b6",
   "metadata": {},
   "outputs": [],
   "source": [
    "#WE can reassign the value of a + a to same variable\n",
    "a = a + a"
   ]
  },
  {
   "cell_type": "code",
   "execution_count": 11,
   "id": "2cea785d-3679-4054-abd6-c21e308d2440",
   "metadata": {},
   "outputs": [
    {
     "data": {
      "text/plain": [
       "20"
      ]
     },
     "execution_count": 11,
     "metadata": {},
     "output_type": "execute_result"
    }
   ],
   "source": [
    "a#Now if you ask you will see 20"
   ]
  },
  {
   "cell_type": "code",
   "execution_count": 12,
   "id": "d49bdfdb-8849-4fe8-8852-0db32e660f62",
   "metadata": {},
   "outputs": [
    {
     "data": {
      "text/plain": [
       "int"
      ]
     },
     "execution_count": 12,
     "metadata": {},
     "output_type": "execute_result"
    }
   ],
   "source": [
    "#We can also check the datatype of a by simply wrapping it up around Python's Built in type() function\n",
    "type(a)"
   ]
  },
  {
   "cell_type": "code",
   "execution_count": 18,
   "id": "97f2f5e1-b60b-49cc-94c2-bcb712fee622",
   "metadata": {},
   "outputs": [
    {
     "data": {
      "text/plain": [
       "float"
      ]
     },
     "execution_count": 18,
     "metadata": {},
     "output_type": "execute_result"
    }
   ],
   "source": [
    "b = 0.0001\n",
    "type(b)"
   ]
  },
  {
   "cell_type": "code",
   "execution_count": 19,
   "id": "739df13f-4a28-4563-83b4-7fce142e8b6d",
   "metadata": {},
   "outputs": [
    {
     "data": {
      "text/plain": [
       "str"
      ]
     },
     "execution_count": 19,
     "metadata": {},
     "output_type": "execute_result"
    }
   ],
   "source": [
    "c = \"Strings\"\n",
    "type(c)"
   ]
  },
  {
   "cell_type": "code",
   "execution_count": 20,
   "id": "abfb0250-8851-43ef-8642-ee63834dbd24",
   "metadata": {},
   "outputs": [
    {
     "data": {
      "text/plain": [
       "str"
      ]
     },
     "execution_count": 20,
     "metadata": {},
     "output_type": "execute_result"
    }
   ],
   "source": [
    "d = 'a'\n",
    "type(d)"
   ]
  },
  {
   "cell_type": "code",
   "execution_count": 21,
   "id": "428c35b8-d11c-4b71-8547-2d699bc72319",
   "metadata": {},
   "outputs": [
    {
     "data": {
      "text/plain": [
       "tuple"
      ]
     },
     "execution_count": 21,
     "metadata": {},
     "output_type": "execute_result"
    }
   ],
   "source": [
    "e = (1,2,3)\n",
    "type(e)"
   ]
  },
  {
   "cell_type": "code",
   "execution_count": 22,
   "id": "697d597c-df4a-4e1a-a1b2-6b84b2353baf",
   "metadata": {},
   "outputs": [
    {
     "data": {
      "text/plain": [
       "10250000000.0"
      ]
     },
     "execution_count": 22,
     "metadata": {},
     "output_type": "execute_result"
    }
   ],
   "source": [
    "my_income = 1000000000\n",
    "tax_rate = 10.25\n",
    "my_taxes =  my_income * tax_rate\n",
    "\n",
    "my_taxes"
   ]
  },
  {
   "cell_type": "code",
   "execution_count": null,
   "id": "663c3f6f-9d6b-491d-b873-a757add6d00a",
   "metadata": {},
   "outputs": [],
   "source": []
  }
 ],
 "metadata": {
  "kernelspec": {
   "display_name": "Python 3 (ipykernel)",
   "language": "python",
   "name": "python3"
  },
  "language_info": {
   "codemirror_mode": {
    "name": "ipython",
    "version": 3
   },
   "file_extension": ".py",
   "mimetype": "text/x-python",
   "name": "python",
   "nbconvert_exporter": "python",
   "pygments_lexer": "ipython3",
   "version": "3.12.7"
  }
 },
 "nbformat": 4,
 "nbformat_minor": 5
}
